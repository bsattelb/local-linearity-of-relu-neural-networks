{
 "cells": [
  {
   "cell_type": "code",
   "execution_count": 1,
   "metadata": {},
   "outputs": [],
   "source": [
    "import torch\n",
    "import torchvision\n",
    "from torchvision.models.resnet import ResNet, BasicBlock\n",
    "from torchvision.models.inception import Inception3, BasicConv2d\n",
    "import time\n",
    "\n",
    "import numpy as np\n",
    "\n",
    "device = torch.device(\"cuda:0\" if torch.cuda.is_available() else \"cpu\")"
   ]
  },
  {
   "cell_type": "code",
   "execution_count": 2,
   "metadata": {},
   "outputs": [],
   "source": [
    "transform = torchvision.transforms.Compose(\n",
    "    [torchvision.transforms.ToTensor(),\n",
    "     torchvision.transforms.Normalize((0.1307,), (0.3081,))])\n",
    "\n",
    "trainloader = torch.utils.data.DataLoader(\n",
    "               torchvision.datasets.MNIST(root='./MNIST', train=True,\n",
    "                                          download=True, transform=transform),\n",
    "               batch_size=1, shuffle=False)\n",
    "\n",
    "testloader =  torch.utils.data.DataLoader(\n",
    "               torchvision.datasets.MNIST(root='./MNIST', train=False,\n",
    "                                          download=True, transform=transform),\n",
    "               batch_size=1, shuffle=False)"
   ]
  },
  {
   "cell_type": "code",
   "execution_count": 3,
   "metadata": {},
   "outputs": [],
   "source": [
    "class MnistResNet(ResNet):\n",
    "    def __init__(self):\n",
    "        super(MnistResNet, self).__init__(BasicBlock, [18, 18, 18, 18], num_classes = 10)\n",
    "        self.conv1 = torch.nn.Conv2d(1, 64, kernel_size=(7, 7), stride=(2, 2), padding=(3, 3), bias=False)\n",
    "        \n",
    "    def forward(self, x):\n",
    "        return super(MnistResNet, self).forward(x)"
   ]
  },
  {
   "cell_type": "code",
   "execution_count": 4,
   "metadata": {},
   "outputs": [],
   "source": [
    "class MnistInception(Inception3):\n",
    "    def __init__(self):\n",
    "        super(MnistInception, self).__init__(num_classes=10, aux_logits=False)\n",
    "        self.Conv2d_1a_3x3 = BasicConv2d(1, 32, kernel_size=3, stride=2)\n",
    "    def forward(self, x):\n",
    "        x = torch.nn.functional.interpolate(x, size=(229, 229), mode='bilinear')\n",
    "        return super(MnistInception, self).forward(x)"
   ]
  },
  {
   "cell_type": "code",
   "execution_count": 5,
   "metadata": {},
   "outputs": [],
   "source": [
    "# Calculate the whichOut row of the Jacobians of net for each element of data_loader\n",
    "def computeRegions(net, data_loader, whichOut):\n",
    "    numSamples = len(data_loader)\n",
    "    grads = np.zeros((len(data_loader.dataset), 28*28+1))\n",
    "    outputs = np.zeros(len(data_loader.dataset))\n",
    "    inputs = np.zeros((len(data_loader.dataset), 28*28+1))\n",
    "    \n",
    "    outConsidering = torch.LongTensor([whichOut])\n",
    "    \n",
    "    for batch_idx, (data, target) in enumerate(data_loader):\n",
    "        torch.cuda.empty_cache()\n",
    "        \n",
    "        data.requires_grad_()\n",
    "        net.zero_grad()\n",
    "        \n",
    "        output = net.forward(data.to(device))\n",
    "    \n",
    "        g = torch.autograd.grad(output[:, whichOut], data)[0].data\n",
    "        g = g.view(-1, 28*28)\n",
    "        \n",
    "        \n",
    "        outputs[batch_idx] = output[:, whichOut].cpu().detach().numpy()\n",
    "        grads[batch_idx, :] = np.array(g.tolist()[0] + [output[:, whichOut] - torch.dot(torch.squeeze(data.view(-1, 28*28)), torch.squeeze(g))])\n",
    "    \n",
    "    return outputs, grads"
   ]
  },
  {
   "cell_type": "code",
   "execution_count": 6,
   "metadata": {},
   "outputs": [],
   "source": [
    "def test(net, testloader):\n",
    "    net.eval()\n",
    "    numRight = 0.0\n",
    "    for inputs, labels in testloader:\n",
    "        torch.cuda.empty_cache()\n",
    "        output = net(inputs.to(device))\n",
    "        _, pred = torch.max(output, 1)\n",
    "        numRight += torch.sum(pred == labels.to(device))\n",
    "    return numRight.item()/len(testloader.dataset)"
   ]
  },
  {
   "cell_type": "code",
   "execution_count": 7,
   "metadata": {},
   "outputs": [],
   "source": [
    "inception = torch.load('inceptionMNIST.pt')\n",
    "#resnet = torch.load('resnet110CIFAR.pt')"
   ]
  },
  {
   "cell_type": "code",
   "execution_count": 8,
   "metadata": {
    "scrolled": true
   },
   "outputs": [
    {
     "name": "stderr",
     "output_type": "stream",
     "text": [
      "/s/parsons/h/proj/vision/usr/bsattelb/anaconda3/lib/python3.7/site-packages/torch/nn/functional.py:2479: UserWarning: Default upsampling behavior when mode=bilinear is changed to align_corners=False since 0.4.0. Please specify align_corners=True if the old behavior is desired. See the documentation of nn.Upsample for details.\n",
      "  \"See the documentation of nn.Upsample for details.\".format(mode))\n"
     ]
    },
    {
     "data": {
      "text/plain": [
       "0.9908"
      ]
     },
     "execution_count": 8,
     "metadata": {},
     "output_type": "execute_result"
    }
   ],
   "source": [
    "test(inception, testloader)"
   ]
  },
  {
   "cell_type": "code",
   "execution_count": 9,
   "metadata": {},
   "outputs": [
    {
     "name": "stdout",
     "output_type": "stream",
     "text": [
      "0 done 2197.5527062416077 seconds\n"
     ]
    }
   ],
   "source": [
    "start = time.time()\n",
    "for i in [0]:\n",
    "    outputs, linearRegions = computeRegions(inception, trainloader, i)\n",
    "    # Modify the save location to match preferred output.  Large file sizes\n",
    "    np.save('/s/red/b/nobackup/data/bsattelb/linearRegions/inceptionMNISTTrainRegion' + str(i) + '.npy', linearRegions)\n",
    "    print(i, 'done', time.time() - start, 'seconds')"
   ]
  },
  {
   "cell_type": "code",
   "execution_count": 9,
   "metadata": {},
   "outputs": [
    {
     "name": "stdout",
     "output_type": "stream",
     "text": [
      "1 done 2194.2757756710052 seconds\n",
      "2 done 4390.52343583107 seconds\n",
      "3 done 6585.8518624305725 seconds\n",
      "4 done 8773.426416397095 seconds\n",
      "5 done 10973.865422010422 seconds\n",
      "6 done 13167.919077157974 seconds\n",
      "7 done 15359.212124109268 seconds\n",
      "8 done 17546.686780691147 seconds\n",
      "9 done 19740.423147201538 seconds\n",
      "0 done 367.2597146034241 seconds\n",
      "1 done 733.1342158317566 seconds\n",
      "2 done 1101.5757358074188 seconds\n",
      "3 done 1469.7197341918945 seconds\n",
      "4 done 1836.3726260662079 seconds\n",
      "5 done 2203.178708791733 seconds\n",
      "6 done 2569.786785364151 seconds\n",
      "7 done 2933.3795988559723 seconds\n",
      "8 done 3298.0682969093323 seconds\n",
      "9 done 3665.441531419754 seconds\n"
     ]
    }
   ],
   "source": [
    "start = time.time()\n",
    "for i in range(0, 10):\n",
    "    outputs, linearRegions = computeRegions(inception, trainloader, i)\n",
    "    # Modify the save location to match preferred output.  Large file sizes\n",
    "    np.save('/s/red/b/nobackup/data/bsattelb/linearRegions/inceptionMNISTTrainRegion' + str(i) + '.npy', linearRegions)\n",
    "    print(i, 'done', time.time() - start, 'seconds')\n",
    "    \n",
    "start = time.time()\n",
    "for i in range(10):\n",
    "    outputs, linearRegions = computeRegions(inception, testloader, i)\n",
    "    # Modify the save location to match preferred output.  Large file sizes\n",
    "    np.save('/s/red/b/nobackup/data/bsattelb/linearRegions/inceptionMNISTTestRegion' + str(i) + '.npy', linearRegions)\n",
    "    print(i, 'done', time.time() - start, 'seconds')"
   ]
  },
  {
   "cell_type": "code",
   "execution_count": 10,
   "metadata": {},
   "outputs": [],
   "source": [
    "del inception\n",
    "torch.cuda.empty_cache()"
   ]
  },
  {
   "cell_type": "code",
   "execution_count": 11,
   "metadata": {},
   "outputs": [],
   "source": [
    "resnet = torch.load('resnet110MNIST.pt')"
   ]
  },
  {
   "cell_type": "code",
   "execution_count": 12,
   "metadata": {},
   "outputs": [
    {
     "data": {
      "text/plain": [
       "0.9892"
      ]
     },
     "execution_count": 12,
     "metadata": {},
     "output_type": "execute_result"
    }
   ],
   "source": [
    "test(resnet, testloader)"
   ]
  },
  {
   "cell_type": "code",
   "execution_count": 13,
   "metadata": {},
   "outputs": [
    {
     "name": "stdout",
     "output_type": "stream",
     "text": [
      "0 done 3068.696019411087 seconds\n",
      "1 done 6147.640231847763 seconds\n",
      "2 done 9227.18725681305 seconds\n",
      "3 done 12301.23743224144 seconds\n",
      "4 done 15377.643580913544 seconds\n",
      "5 done 18450.97530388832 seconds\n",
      "6 done 21529.149015665054 seconds\n",
      "7 done 24604.543788194656 seconds\n",
      "8 done 27680.62859773636 seconds\n",
      "9 done 30755.660396575928 seconds\n",
      "0 done 512.361946105957 seconds\n",
      "1 done 1025.9252994060516 seconds\n",
      "2 done 1540.211095571518 seconds\n",
      "3 done 2053.8930168151855 seconds\n",
      "4 done 2568.3460199832916 seconds\n",
      "5 done 3082.062150478363 seconds\n",
      "6 done 3595.60719537735 seconds\n",
      "7 done 4109.745201826096 seconds\n",
      "8 done 4625.90789604187 seconds\n",
      "9 done 5141.268374681473 seconds\n"
     ]
    }
   ],
   "source": [
    "start = time.time()\n",
    "for i in range(10):\n",
    "    outputs, linearRegions = computeRegions(resnet, trainloader, i)\n",
    "    # Modify the save location to match preferred output.  Large file sizes\n",
    "    np.save('/s/red/b/nobackup/data/bsattelb/linearRegions/resnetMNISTTrainRegion' + str(i) + '.npy', linearRegions)\n",
    "    print(i, 'done', time.time() - start, 'seconds')\n",
    "\n",
    "start = time.time()\n",
    "for i in range(10):\n",
    "    outputs, linearRegions = computeRegions(resnet, testloader, i)\n",
    "    # Modify the save location to match preferred output.  Large file sizes\n",
    "    np.save('/s/red/b/nobackup/data/bsattelb/linearRegions/resnetMNISTTestRegion' + str(i) + '.npy', linearRegions)\n",
    "    print(i, 'done', time.time() - start, 'seconds')"
   ]
  },
  {
   "cell_type": "code",
   "execution_count": 14,
   "metadata": {},
   "outputs": [],
   "source": [
    "del resnet\n",
    "torch.cuda.empty_cache()"
   ]
  },
  {
   "cell_type": "code",
   "execution_count": null,
   "metadata": {},
   "outputs": [],
   "source": []
  }
 ],
 "metadata": {
  "kernelspec": {
   "display_name": "Python 3 (ipykernel)",
   "language": "python",
   "name": "python3"
  },
  "language_info": {
   "codemirror_mode": {
    "name": "ipython",
    "version": 3
   },
   "file_extension": ".py",
   "mimetype": "text/x-python",
   "name": "python",
   "nbconvert_exporter": "python",
   "pygments_lexer": "ipython3",
   "version": "3.10.11"
  }
 },
 "nbformat": 4,
 "nbformat_minor": 2
}
