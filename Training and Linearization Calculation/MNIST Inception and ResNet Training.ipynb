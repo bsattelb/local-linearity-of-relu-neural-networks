{
 "cells": [
  {
   "cell_type": "code",
   "execution_count": null,
   "metadata": {},
   "outputs": [],
   "source": [
    "import torch\n",
    "import torchvision\n",
    "from torchvision.models.resnet import ResNet, BasicBlock\n",
    "from torchvision.models.inception import Inception3, BasicConv2d\n",
    "import time"
   ]
  },
  {
   "cell_type": "code",
   "execution_count": null,
   "metadata": {},
   "outputs": [],
   "source": [
    "n_epochs = 30\n",
    "batch_size_train = 50\n",
    "batch_size_test = 50\n",
    "\n",
    "device = torch.device(\"cuda:0\" if torch.cuda.is_available() else \"cpu\")"
   ]
  },
  {
   "cell_type": "code",
   "execution_count": null,
   "metadata": {},
   "outputs": [],
   "source": [
    "transform = torchvision.transforms.Compose(\n",
    "    [torchvision.transforms.ToTensor(),\n",
    "     torchvision.transforms.Normalize((0.1307,), (0.3081,))])\n",
    "\n",
    "train_loader = torch.utils.data.DataLoader(\n",
    "               torchvision.datasets.MNIST(root='./MNIST', train=True,\n",
    "                                          download=True, transform=transform),\n",
    "               batch_size=batch_size_train, shuffle=True)\n",
    "\n",
    "test_loader =  torch.utils.data.DataLoader(\n",
    "               torchvision.datasets.MNIST(root='./MNIST', train=False,\n",
    "                                          download=True, transform=transform),\n",
    "               batch_size=batch_size_test, shuffle=False)"
   ]
  },
  {
   "cell_type": "code",
   "execution_count": null,
   "metadata": {},
   "outputs": [],
   "source": [
    "class MnistResNet(ResNet):\n",
    "    def __init__(self):\n",
    "        super(MnistResNet, self).__init__(BasicBlock, [18, 18, 18, 18], num_classes = 10)\n",
    "        # Modify the first layer to accept MNIST images\n",
    "        self.conv1 = torch.nn.Conv2d(1, 64, kernel_size=(7, 7), stride=(2, 2), padding=(3, 3), bias=False)\n",
    "        \n",
    "    def forward(self, x):\n",
    "        return super(MnistResNet, self).forward(x)"
   ]
  },
  {
   "cell_type": "code",
   "execution_count": null,
   "metadata": {},
   "outputs": [],
   "source": [
    "class MnistInception(Inception3):\n",
    "    def __init__(self):\n",
    "        super(MnistInception, self).__init__(num_classes=10, aux_logits=False)\n",
    "        # Modify the first layer to accept MNIST images\n",
    "        self.Conv2d_1a_3x3 = BasicConv2d(1, 32, kernel_size=3, stride=2)\n",
    "    def forward(self, x):\n",
    "        x = torch.nn.functional.interpolate(x, size=(229, 229), mode='bilinear')\n",
    "        return super(MnistInception, self).forward(x)"
   ]
  },
  {
   "cell_type": "code",
   "execution_count": null,
   "metadata": {},
   "outputs": [],
   "source": [
    "def train(net, criterion, optimizer, trainloader):\n",
    "    net.train()\n",
    "    for i, (inputs, labels) in enumerate(trainloader):\n",
    "        output = net(inputs.to(device))\n",
    "        loss = criterion(output, labels.to(device))\n",
    "\n",
    "        optimizer.zero_grad()\n",
    "        loss.backward()\n",
    "        optimizer.step()"
   ]
  },
  {
   "cell_type": "code",
   "execution_count": null,
   "metadata": {},
   "outputs": [],
   "source": [
    "def test(net, testloader):\n",
    "    net.eval()\n",
    "    numRight = 0.0\n",
    "    for inputs, labels in testloader:\n",
    "        output = net(inputs.to(device))\n",
    "        _, pred = torch.max(output, 1)\n",
    "        numRight += torch.sum(pred == labels.to(device))\n",
    "    return numRight.item()/len(testloader.dataset)"
   ]
  },
  {
   "cell_type": "code",
   "execution_count": null,
   "metadata": {},
   "outputs": [],
   "source": [
    "criterion = torch.nn.CrossEntropyLoss().to(device)"
   ]
  },
  {
   "cell_type": "code",
   "execution_count": null,
   "metadata": {},
   "outputs": [],
   "source": [
    "resnet = MnistResNet().to(device)\n",
    "optimizer = torch.optim.SGD(resnet.parameters(), 0.1,\n",
    "                            momentum=0.9,\n",
    "                            weight_decay=1e-4)\n",
    "\n",
    "start=time.time()\n",
    "for i in range(n_epochs):\n",
    "    torch.cuda.empty_cache()\n",
    "    train(resnet, criterion, optimizer, train_loader)\n",
    "    torch.cuda.empty_cache()\n",
    "    print(i, 'th epoch:', test(resnet, test_loader), 'time: ', time.time() - start)"
   ]
  },
  {
   "cell_type": "code",
   "execution_count": null,
   "metadata": {},
   "outputs": [],
   "source": [
    "for i in range(n_epochs, 2*n_epochs):\n",
    "    torch.cuda.empty_cache()\n",
    "    train(resnet, criterion, optimizer, train_loader)\n",
    "    torch.cuda.empty_cache()\n",
    "    print(i, 'th epoch:', test(resnet, test_loader), 'time: ', time.time() - start)"
   ]
  },
  {
   "cell_type": "code",
   "execution_count": null,
   "metadata": {},
   "outputs": [],
   "source": [
    "torch.save(resnet, 'resnet110MNIST.pt')\n",
    "del resnet\n",
    "torch.cuda.empty_cache()"
   ]
  },
  {
   "cell_type": "code",
   "execution_count": null,
   "metadata": {},
   "outputs": [],
   "source": [
    "inception = MnistInception().to(device)\n",
    "optimizer = torch.optim.SGD(inception.parameters(), 0.1,\n",
    "                            momentum=0.9,\n",
    "                            weight_decay=1e-4)\n",
    "\n",
    "start=time.time()\n",
    "for i in range(2*n_epochs):\n",
    "    torch.cuda.empty_cache()\n",
    "    train(inception, criterion, optimizer, train_loader)\n",
    "    torch.cuda.empty_cache()\n",
    "    print(i, 'th epoch:', test(inception, test_loader), 'time: ', time.time() - start)"
   ]
  },
  {
   "cell_type": "code",
   "execution_count": null,
   "metadata": {},
   "outputs": [],
   "source": [
    "torch.save(inception, 'inceptionMNIST.pt')\n",
    "del inception\n",
    "torch.cuda.empty_cache()"
   ]
  },
  {
   "cell_type": "code",
   "execution_count": null,
   "metadata": {},
   "outputs": [],
   "source": []
  }
 ],
 "metadata": {
  "kernelspec": {
   "display_name": "Python 3 (ipykernel)",
   "language": "python",
   "name": "python3"
  },
  "language_info": {
   "codemirror_mode": {
    "name": "ipython",
    "version": 3
   },
   "file_extension": ".py",
   "mimetype": "text/x-python",
   "name": "python",
   "nbconvert_exporter": "python",
   "pygments_lexer": "ipython3",
   "version": "3.10.11"
  }
 },
 "nbformat": 4,
 "nbformat_minor": 2
}
